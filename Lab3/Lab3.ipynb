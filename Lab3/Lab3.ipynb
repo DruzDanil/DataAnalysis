{
 "cells": [
  {
   "cell_type": "code",
   "execution_count": 1,
   "id": "0d0bb3ff-98e7-4f83-94e1-5200c169efb6",
   "metadata": {},
   "outputs": [
    {
     "name": "stdout",
     "output_type": "stream",
     "text": [
      "WARNING:tensorflow:From c:\\Users\\Люциус\\AppData\\Local\\Programs\\Python\\Python310\\lib\\site-packages\\keras\\src\\losses.py:2976: The name tf.losses.sparse_softmax_cross_entropy is deprecated. Please use tf.compat.v1.losses.sparse_softmax_cross_entropy instead.\n",
      "\n"
     ]
    }
   ],
   "source": [
    "import pandas as pd\n",
    "import numpy as np\n",
    "import matplotlib.pyplot as plt\n",
    "from sklearn.model_selection import train_test_split\n",
    "# knn\n",
    "from sklearn.preprocessing import LabelEncoder, MinMaxScaler\n",
    "\n",
    "from tensorflow import keras\n",
    "from tensorflow.keras import layers"
   ]
  },
  {
   "cell_type": "code",
   "execution_count": 2,
   "id": "cd33b299-6aca-40fa-bacb-bd38743b46d8",
   "metadata": {},
   "outputs": [],
   "source": [
    "filename = \"Population estimates by gender nationality and region 2010 - 2022_data.csv\"\n",
    "\n",
    "df = pd.read_csv(filename)\n",
    "df[\"Year\"] = df[\"Year\"].str.replace(\",\", '')\n",
    "df[\"Population estimates\"] = df[\"Population estimates\"].str.replace(\",\", '')\n",
    "df[\"Year\"]=df[\"Year\"].astype(int)\n",
    "df[\"Population estimates\"]=df[\"Population estimates\"].astype(int)"
   ]
  },
  {
   "cell_type": "code",
   "execution_count": 3,
   "id": "2412e969-cca3-4135-845d-723ee40ab0cf",
   "metadata": {},
   "outputs": [
    {
     "name": "stdout",
     "output_type": "stream",
     "text": [
      "<class 'pandas.core.frame.DataFrame'>\n",
      "RangeIndex: 676 entries, 0 to 675\n",
      "Data columns (total 5 columns):\n",
      " #   Column                Non-Null Count  Dtype \n",
      "---  ------                --------------  ----- \n",
      " 0   Region                676 non-null    object\n",
      " 1   Year                  676 non-null    int32 \n",
      " 2   Gender                676 non-null    object\n",
      " 3   Nationality           676 non-null    object\n",
      " 4   Population estimates  676 non-null    int32 \n",
      "dtypes: int32(2), object(3)\n",
      "memory usage: 21.2+ KB\n",
      "None\n"
     ]
    }
   ],
   "source": [
    "print(df.info())"
   ]
  },
  {
   "cell_type": "code",
   "execution_count": 4,
   "id": "a408933b-ff57-4ecf-b323-e09dbd78c8be",
   "metadata": {},
   "outputs": [
    {
     "name": "stdout",
     "output_type": "stream",
     "text": [
      "           Region  Year  Gender Nationality  Population estimates\n",
      "0         Madinah  2014  Female       Saudi                562344\n",
      "1          Tabouk  2010  Female       Saudi                239792\n",
      "2            Hail  2013  Female       Saudi                211727\n",
      "3  Eastern Region  2016    Male       Saudi               1308467\n",
      "4         Al-Baha  2018  Female   Non-Saudi                 16951\n"
     ]
    }
   ],
   "source": [
    "print(df.head())"
   ]
  },
  {
   "cell_type": "code",
   "execution_count": 5,
   "id": "7fed4d2e-ad0f-4cf7-a45f-7c6af3ef868c",
   "metadata": {},
   "outputs": [],
   "source": [
    "df[\"Region\"] = LabelEncoder().fit_transform(df[\"Region\"])\n",
    "df[\"Nationality\"] = LabelEncoder().fit_transform(df[\"Nationality\"])\n",
    "accuracies = []"
   ]
  },
  {
   "cell_type": "code",
   "execution_count": 73,
   "id": "22380571-5923-4a47-a081-8957749240b4",
   "metadata": {},
   "outputs": [
    {
     "name": "stdout",
     "output_type": "stream",
     "text": [
      "[('kNN', 0.47058823529411764), ('Decision Tree', 0.6666666666666666), ('Support Vector Machine', 0.6551724137931034), ('Adaptive Boosting', 0.6838235294117647)]\n",
      "Top classificator is Adaptive Boosting \n",
      "It`s accuracy is: 0.6838235294117647\n"
     ]
    }
   ],
   "source": [
    "print(accuracies)\n",
    "accuracies = sorted(accuracies, key = lambda pair: pair[1], reverse = True)\n",
    "print(\"Top classificator is\", accuracies[0][0],\"\\nIt`s accuracy is:\", accuracies[0][1])"
   ]
  },
  {
   "cell_type": "code",
   "execution_count": 6,
   "metadata": {},
   "outputs": [
    {
     "data": {
      "text/html": [
       "<div>\n",
       "<style scoped>\n",
       "    .dataframe tbody tr th:only-of-type {\n",
       "        vertical-align: middle;\n",
       "    }\n",
       "\n",
       "    .dataframe tbody tr th {\n",
       "        vertical-align: top;\n",
       "    }\n",
       "\n",
       "    .dataframe thead th {\n",
       "        text-align: right;\n",
       "    }\n",
       "</style>\n",
       "<table border=\"1\" class=\"dataframe\">\n",
       "  <thead>\n",
       "    <tr style=\"text-align: right;\">\n",
       "      <th></th>\n",
       "      <th>Region</th>\n",
       "      <th>Year</th>\n",
       "      <th>Gender</th>\n",
       "      <th>Nationality</th>\n",
       "      <th>Population estimates</th>\n",
       "    </tr>\n",
       "  </thead>\n",
       "  <tbody>\n",
       "    <tr>\n",
       "      <th>0</th>\n",
       "      <td>6</td>\n",
       "      <td>2014</td>\n",
       "      <td>0</td>\n",
       "      <td>1</td>\n",
       "      <td>562344</td>\n",
       "    </tr>\n",
       "    <tr>\n",
       "      <th>1</th>\n",
       "      <td>12</td>\n",
       "      <td>2010</td>\n",
       "      <td>0</td>\n",
       "      <td>1</td>\n",
       "      <td>239792</td>\n",
       "    </tr>\n",
       "    <tr>\n",
       "      <th>2</th>\n",
       "      <td>4</td>\n",
       "      <td>2013</td>\n",
       "      <td>0</td>\n",
       "      <td>1</td>\n",
       "      <td>211727</td>\n",
       "    </tr>\n",
       "    <tr>\n",
       "      <th>3</th>\n",
       "      <td>3</td>\n",
       "      <td>2016</td>\n",
       "      <td>1</td>\n",
       "      <td>1</td>\n",
       "      <td>1308467</td>\n",
       "    </tr>\n",
       "    <tr>\n",
       "      <th>4</th>\n",
       "      <td>0</td>\n",
       "      <td>2018</td>\n",
       "      <td>0</td>\n",
       "      <td>0</td>\n",
       "      <td>16951</td>\n",
       "    </tr>\n",
       "  </tbody>\n",
       "</table>\n",
       "</div>"
      ],
      "text/plain": [
       "   Region  Year  Gender  Nationality  Population estimates\n",
       "0       6  2014       0            1                562344\n",
       "1      12  2010       0            1                239792\n",
       "2       4  2013       0            1                211727\n",
       "3       3  2016       1            1               1308467\n",
       "4       0  2018       0            0                 16951"
      ]
     },
     "execution_count": 6,
     "metadata": {},
     "output_type": "execute_result"
    }
   ],
   "source": [
    "df[\"Gender\"] = LabelEncoder().fit_transform(df[\"Gender\"])\n",
    "df.head()"
   ]
  },
  {
   "cell_type": "code",
   "execution_count": 7,
   "metadata": {},
   "outputs": [
    {
     "name": "stdout",
     "output_type": "stream",
     "text": [
      "2\n"
     ]
    }
   ],
   "source": [
    "\n",
    "x = df.drop(['Gender'], axis = 1)\n",
    "y = df['Gender']\n",
    "x_train, x_test, y_train, y_test = train_test_split(x, y, test_size=0.2)\n",
    "num_classes = len(y.unique())\n",
    "print(num_classes)\n",
    "scaler = MinMaxScaler()\n",
    "scaler.fit(x_train)\n",
    "scaled_X_train = scaler.transform(x_train) \n",
    "scaled_X_test = scaler.transform(x_test)"
   ]
  },
  {
   "cell_type": "code",
   "execution_count": 59,
   "metadata": {},
   "outputs": [
    {
     "name": "stdout",
     "output_type": "stream",
     "text": [
      "Epoch 1/10\n",
      "27/27 - 1s - loss: 0.7078 - accuracy: 0.5069 - val_loss: 0.7129 - val_accuracy: 0.4352 - 716ms/epoch - 27ms/step\n",
      "Epoch 2/10\n",
      "27/27 - 0s - loss: 0.7043 - accuracy: 0.5023 - val_loss: 0.7096 - val_accuracy: 0.4444 - 74ms/epoch - 3ms/step\n",
      "Epoch 3/10\n",
      "27/27 - 0s - loss: 0.7015 - accuracy: 0.5023 - val_loss: 0.7072 - val_accuracy: 0.4537 - 74ms/epoch - 3ms/step\n",
      "Epoch 4/10\n",
      "27/27 - 0s - loss: 0.7002 - accuracy: 0.4907 - val_loss: 0.7039 - val_accuracy: 0.4352 - 74ms/epoch - 3ms/step\n",
      "Epoch 5/10\n",
      "27/27 - 0s - loss: 0.6974 - accuracy: 0.4954 - val_loss: 0.7020 - val_accuracy: 0.4815 - 75ms/epoch - 3ms/step\n",
      "Epoch 6/10\n",
      "27/27 - 0s - loss: 0.6949 - accuracy: 0.4884 - val_loss: 0.6998 - val_accuracy: 0.5000 - 70ms/epoch - 3ms/step\n",
      "Epoch 7/10\n",
      "27/27 - 0s - loss: 0.6929 - accuracy: 0.4884 - val_loss: 0.6978 - val_accuracy: 0.5000 - 73ms/epoch - 3ms/step\n",
      "Epoch 8/10\n",
      "27/27 - 0s - loss: 0.6914 - accuracy: 0.4815 - val_loss: 0.6958 - val_accuracy: 0.5000 - 78ms/epoch - 3ms/step\n",
      "Epoch 9/10\n",
      "27/27 - 0s - loss: 0.6899 - accuracy: 0.4792 - val_loss: 0.6939 - val_accuracy: 0.5463 - 76ms/epoch - 3ms/step\n",
      "Epoch 10/10\n",
      "27/27 - 0s - loss: 0.6887 - accuracy: 0.4907 - val_loss: 0.6924 - val_accuracy: 0.5556 - 72ms/epoch - 3ms/step\n"
     ]
    }
   ],
   "source": [
    "model = keras.Sequential([layers.Dense(8, activation='tanh'),\n",
    "                          layers.Dense(1, activation=\"sigmoid\")])\n",
    "model.compile(optimizer='adam', loss='binary_crossentropy', metrics=['accuracy']) \n",
    "history = model.fit(scaled_X_train,\n",
    "                    y_train,\n",
    "                    epochs=10,\n",
    "                    batch_size=16,\n",
    "                    validation_split=0.2,\n",
    "                    verbose = 2)"
   ]
  },
  {
   "cell_type": "code",
   "execution_count": 60,
   "metadata": {},
   "outputs": [
    {
     "data": {
      "image/png": "[encoded data removed]",
      "text/plain": [
       "<Figure size 640x480 with 1 Axes>"
      ]
     },
     "metadata": {},
     "output_type": "display_data"
    }
   ],
   "source": [
    "history_dict = history.history\n",
    "loss_values = history_dict[\"loss\"]\n",
    "val_loss_values = history_dict[\"val_loss\"]\n",
    "epochs = range(1, len(loss_values) + 1)\n",
    "plt.plot(epochs, loss_values, \"bo\", label=\"Training loss\")\n",
    "plt.plot(epochs, val_loss_values, \"b\", label=\"Validation loss\")\n",
    "plt.title(\"Training and validation loss\")\n",
    "plt.xlabel(\"Epochs\")\n",
    "plt.ylabel(\"Loss\")\n",
    "plt.legend()\n",
    "plt.show()"
   ]
  },
  {
   "cell_type": "code",
   "execution_count": 61,
   "metadata": {},
   "outputs": [
    {
     "name": "stdout",
     "output_type": "stream",
     "text": [
      "Test score: 0.6835499405860901\n",
      "Test accuracy: 0.6176470518112183\n"
     ]
    }
   ],
   "source": [
    "score = model.evaluate(scaled_X_test, y_test, verbose=0) \n",
    "print('Test score:', score[0]) \n",
    "print('Test accuracy:', score[1])"
   ]
  },
  {
   "cell_type": "code",
   "execution_count": 12,
   "metadata": {},
   "outputs": [],
   "source": [
    "import os\n",
    "from PIL import Image\n",
    "# from tensorflow.keras.preprocessing.image import load_img, img_to_array"
   ]
  },
  {
   "cell_type": "code",
   "execution_count": 13,
   "metadata": {},
   "outputs": [],
   "source": [
    "data_dir = 'animal_dataset_intermediate\\\\train'\n",
    "image_paths = []\n",
    "classes = []\n",
    "class_names = os.listdir(data_dir)\n",
    "for class_name in class_names[:3]:\n",
    "    class_dir = os.path.join(data_dir, class_name)\n",
    "    for image_name in os.listdir(class_dir):\n",
    "        image_path = os.path.join(class_dir, image_name)\n",
    "        image_paths.append(image_path)\n",
    "        classes.append(class_name)"
   ]
  },
  {
   "cell_type": "code",
   "execution_count": 14,
   "metadata": {},
   "outputs": [
    {
     "name": "stdout",
     "output_type": "stream",
     "text": [
      "4882 4882\n"
     ]
    }
   ],
   "source": [
    "print(len(image_paths), len(classes))"
   ]
  },
  {
   "cell_type": "code",
   "execution_count": 15,
   "metadata": {},
   "outputs": [],
   "source": [
    "def open_images(image_paths, classes):\n",
    "    images = np.empty((len(image_paths), 200, 200, 3), dtype=np.ndarray)\n",
    "    del_indexes = []\n",
    "    for i, image_path in enumerate(image_paths):\n",
    "        image = Image.open(image_path)\n",
    "        resized_image = image.resize((200, 200))\n",
    "        image.close()\n",
    "        array_image = np.asarray(resized_image)\n",
    "        if array_image.shape[2] != 3:\n",
    "            del_indexes.append(i)\n",
    "            continue\n",
    "        images[i] = array_image\n",
    "    del_indexes.sort(reverse=True)\n",
    "    for index in del_indexes:\n",
    "        del classes[index]\n",
    "    mask = ~np.all(images == None, axis = (1, 2, 3))  # знаходимо елементи, які не є NaN\n",
    "    images = images[mask]\n",
    "    return images"
   ]
  },
  {
   "cell_type": "code",
   "execution_count": 16,
   "metadata": {},
   "outputs": [],
   "source": [
    "images = open_images(image_paths, classes)"
   ]
  },
  {
   "cell_type": "code",
   "execution_count": 17,
   "metadata": {},
   "outputs": [
    {
     "name": "stdout",
     "output_type": "stream",
     "text": [
      "(4849, 200, 200, 3) 4849\n"
     ]
    }
   ],
   "source": [
    "print(images.shape, len(classes))"
   ]
  },
  {
   "cell_type": "code",
   "execution_count": 19,
   "metadata": {},
   "outputs": [],
   "source": [
    "x = images.astype('float32') / 255\n",
    "y = LabelEncoder().fit_transform(classes)\n",
    "x_train, x_test, y_train, y_test = train_test_split(x, y, test_size=0.2)"
   ]
  },
  {
   "cell_type": "code",
   "execution_count": 77,
   "metadata": {},
   "outputs": [
    {
     "name": "stdout",
     "output_type": "stream",
     "text": [
      "3879 train samples\n",
      "970 test samples\n",
      "image shape (3879, 200, 200, 3)\n"
     ]
    }
   ],
   "source": [
    "print(x_train.shape[0], 'train samples')\n",
    "print(x_test.shape[0], 'test samples')\n",
    "print('image shape', x_train.shape)"
   ]
  },
  {
   "cell_type": "code",
   "execution_count": 25,
   "id": "768a33b3",
   "metadata": {},
   "outputs": [
    {
     "name": "stdout",
     "output_type": "stream",
     "text": [
      "0\n"
     ]
    }
   ],
   "source": [
    "np.unique(y_train)\n",
    "indices = np.where(y_train == 0)[0]\n",
    "print(indices[0])"
   ]
  },
  {
   "cell_type": "code",
   "execution_count": 26,
   "metadata": {},
   "outputs": [
    {
     "data": {
      "image/png": "[encoded data removed]",
      "text/plain": [
       "<Figure size 800x400 with 3 Axes>"
      ]
     },
     "metadata": {},
     "output_type": "display_data"
    }
   ],
   "source": [
    "n = 3  \n",
    "plt.figure(figsize=(8, 4))\n",
    "for i in range(n):\n",
    "    index = np.where(y_train == i)[0][0]\n",
    "    ax = plt.subplot(2, n, i + 1)\n",
    "    plt.imshow(x_train[i])\n",
    "    plt.gray()\n",
    "    ax.get_xaxis().set_visible(False)\n",
    "    ax.get_yaxis().set_visible(False)\n",
    "\n",
    "plt.show()"
   ]
  },
  {
   "cell_type": "code",
   "execution_count": 27,
   "id": "cbb0fa1b",
   "metadata": {},
   "outputs": [],
   "source": [
    "num_classes = 3\n",
    "# convert class vectors to binary class matrices\n",
    "y_train = keras.utils.to_categorical(y_train, num_classes)\n",
    "y_test = keras.utils.to_categorical(y_test, num_classes)"
   ]
  },
  {
   "cell_type": "code",
   "execution_count": 28,
   "metadata": {},
   "outputs": [
    {
     "name": "stdout",
     "output_type": "stream",
     "text": [
      "WARNING:tensorflow:From c:\\Users\\Люциус\\AppData\\Local\\Programs\\Python\\Python310\\lib\\site-packages\\keras\\src\\layers\\pooling\\max_pooling2d.py:161: The name tf.nn.max_pool is deprecated. Please use tf.nn.max_pool2d instead.\n",
      "\n"
     ]
    }
   ],
   "source": [
    "model =  keras.Sequential()\n",
    "model.add(layers.Conv2D(32, kernel_size=(3, 3), activation='relu', input_shape=x_train.shape[1:]))\n",
    "model.add(layers.Conv2D(64, (3, 3), activation='relu'))\n",
    "model.add(layers.MaxPooling2D(pool_size=(2, 2)))\n",
    "model.add(layers.Dropout(0.25))\n",
    "model.add(layers.Flatten())\n",
    "model.add(layers.Dense(128, activation='relu'))\n",
    "model.add(layers.Dropout(0.5))\n",
    "model.add(layers.Dense(num_classes, activation='softmax'))"
   ]
  },
  {
   "cell_type": "code",
   "execution_count": 29,
   "metadata": {},
   "outputs": [
    {
     "name": "stdout",
     "output_type": "stream",
     "text": [
      "Model: \"sequential_2\"\n",
      "_________________________________________________________________\n",
      " Layer (type)                Output Shape              Param #   \n",
      "=================================================================\n",
      " conv2d (Conv2D)             (None, 198, 198, 32)      896       \n",
      "                                                                 \n",
      " conv2d_1 (Conv2D)           (None, 196, 196, 64)      18496     \n",
      "                                                                 \n",
      " max_pooling2d (MaxPooling2  (None, 98, 98, 64)        0         \n",
      " D)                                                              \n",
      "                                                                 \n",
      " dropout (Dropout)           (None, 98, 98, 64)        0         \n",
      "                                                                 \n",
      " flatten (Flatten)           (None, 614656)            0         \n",
      "                                                                 \n",
      " dense_4 (Dense)             (None, 128)               78676096  \n",
      "                                                                 \n",
      " dropout_1 (Dropout)         (None, 128)               0         \n",
      "                                                                 \n",
      " dense_5 (Dense)             (None, 3)                 387       \n",
      "                                                                 \n",
      "=================================================================\n",
      "Total params: 78695875 (300.20 MB)\n",
      "Trainable params: 78695875 (300.20 MB)\n",
      "Non-trainable params: 0 (0.00 Byte)\n",
      "_________________________________________________________________\n"
     ]
    }
   ],
   "source": [
    "model.compile(loss='categorical_crossentropy',\n",
    "              optimizer='adam',\n",
    "              metrics=['accuracy'])\n",
    "\n",
    "model.summary()"
   ]
  },
  {
   "cell_type": "code",
   "execution_count": 30,
   "metadata": {},
   "outputs": [
    {
     "name": "stdout",
     "output_type": "stream",
     "text": [
      "Epoch 1/12\n",
      "31/31 [==============================] - 157s 4s/step - loss: 3.2461 - accuracy: 0.4795 - val_loss: 0.7436 - val_accuracy: 0.6371\n",
      "Epoch 2/12\n",
      "31/31 [==============================] - 120s 4s/step - loss: 0.6546 - accuracy: 0.6917 - val_loss: 0.6231 - val_accuracy: 0.7165\n",
      "Epoch 3/12\n",
      "31/31 [==============================] - 117s 4s/step - loss: 0.5086 - accuracy: 0.7940 - val_loss: 0.4723 - val_accuracy: 0.8093\n",
      "Epoch 4/12\n",
      "31/31 [==============================] - 118s 4s/step - loss: 0.3107 - accuracy: 0.8891 - val_loss: 0.4334 - val_accuracy: 0.8144\n",
      "Epoch 5/12\n",
      "31/31 [==============================] - 119s 4s/step - loss: 0.1893 - accuracy: 0.9356 - val_loss: 0.4543 - val_accuracy: 0.8299\n",
      "Epoch 6/12\n",
      "31/31 [==============================] - 118s 4s/step - loss: 0.1078 - accuracy: 0.9665 - val_loss: 0.4977 - val_accuracy: 0.8247\n",
      "Epoch 7/12\n",
      "31/31 [==============================] - 119s 4s/step - loss: 0.0585 - accuracy: 0.9848 - val_loss: 0.5277 - val_accuracy: 0.8278\n",
      "Epoch 8/12\n",
      "31/31 [==============================] - 118s 4s/step - loss: 0.0693 - accuracy: 0.9820 - val_loss: 0.6235 - val_accuracy: 0.8165\n",
      "Epoch 9/12\n",
      "31/31 [==============================] - 118s 4s/step - loss: 0.0332 - accuracy: 0.9930 - val_loss: 0.6962 - val_accuracy: 0.8082\n",
      "Epoch 10/12\n",
      "31/31 [==============================] - 116s 4s/step - loss: 0.0273 - accuracy: 0.9936 - val_loss: 0.6376 - val_accuracy: 0.8320\n",
      "Epoch 11/12\n",
      "31/31 [==============================] - 113s 4s/step - loss: 0.0151 - accuracy: 0.9966 - val_loss: 0.6784 - val_accuracy: 0.8320\n",
      "Epoch 12/12\n",
      "31/31 [==============================] - 115s 4s/step - loss: 0.0148 - accuracy: 0.9961 - val_loss: 0.6770 - val_accuracy: 0.8216\n"
     ]
    },
    {
     "data": {
      "text/plain": [
       "<keras.src.callbacks.History at 0x1c9eff7bd90>"
      ]
     },
     "execution_count": 30,
     "metadata": {},
     "output_type": "execute_result"
    }
   ],
   "source": [
    "model.fit(x_train, y_train,\n",
    "          batch_size=128,\n",
    "          epochs=12,\n",
    "          verbose=1,\n",
    "          validation_data=(x_test, y_test))"
   ]
  },
  {
   "cell_type": "code",
   "execution_count": 31,
   "metadata": {},
   "outputs": [
    {
     "name": "stdout",
     "output_type": "stream",
     "text": [
      "Test score: 0.6770473718643188\n",
      "Test accuracy: 0.8216494917869568\n"
     ]
    }
   ],
   "source": [
    "score = model.evaluate(x_test, y_test, verbose=0) \n",
    "print('Test score:', score[0]) \n",
    "print('Test accuracy:', score[1])"
   ]
  },
  {
   "cell_type": "code",
   "execution_count": 32,
   "metadata": {},
   "outputs": [],
   "source": [
    "import re\n",
    "import string\n",
    "from nltk.tokenize import word_tokenize\n",
    "from nltk.corpus import stopwords\n",
    "from nltk.stem import PorterStemmer"
   ]
  },
  {
   "cell_type": "code",
   "execution_count": 33,
   "metadata": {},
   "outputs": [],
   "source": [
    "data = pd.read_json(\"data.json\", lines=True, encoding = \"latin-1\")"
   ]
  },
  {
   "cell_type": "code",
   "execution_count": 34,
   "metadata": {},
   "outputs": [
    {
     "data": {
      "text/plain": [
       "array(['fit', 'small', 'large'], dtype=object)"
      ]
     },
     "execution_count": 34,
     "metadata": {},
     "output_type": "execute_result"
    }
   ],
   "source": [
    "data[\"fit\"].unique()"
   ]
  },
  {
   "cell_type": "code",
   "execution_count": 35,
   "metadata": {},
   "outputs": [],
   "source": [
    "data.loc[data['fit'].isin([\"small\", \"large\"]), 'fit'] = \"unfit\""
   ]
  },
  {
   "cell_type": "code",
   "execution_count": 36,
   "metadata": {},
   "outputs": [],
   "source": [
    "data = data[[\"fit\", \"review_text\"]]"
   ]
  },
  {
   "cell_type": "code",
   "execution_count": 37,
   "metadata": {},
   "outputs": [
    {
     "data": {
      "text/plain": [
       "fit      142058\n",
       "unfit     50486\n",
       "Name: fit, dtype: int64"
      ]
     },
     "execution_count": 37,
     "metadata": {},
     "output_type": "execute_result"
    }
   ],
   "source": [
    "data['fit'].value_counts()"
   ]
  },
  {
   "cell_type": "code",
   "execution_count": 38,
   "metadata": {},
   "outputs": [],
   "source": [
    "data = data.sample(frac=1)"
   ]
  },
  {
   "cell_type": "code",
   "execution_count": 39,
   "metadata": {},
   "outputs": [
    {
     "data": {
      "text/plain": [
       "(50000, 2)"
      ]
     },
     "execution_count": 39,
     "metadata": {},
     "output_type": "execute_result"
    }
   ],
   "source": [
    "data = data[:50000]\n",
    "data.shape"
   ]
  },
  {
   "cell_type": "code",
   "execution_count": 40,
   "metadata": {},
   "outputs": [
    {
     "data": {
      "text/plain": [
       "fit      37045\n",
       "unfit    12955\n",
       "Name: fit, dtype: int64"
      ]
     },
     "execution_count": 40,
     "metadata": {},
     "output_type": "execute_result"
    }
   ],
   "source": [
    "data['fit'].value_counts()"
   ]
  },
  {
   "cell_type": "code",
   "execution_count": 41,
   "metadata": {},
   "outputs": [],
   "source": [
    "stop_words = stopwords.words('english')\n",
    "stop_words.append(\"dress\")\n",
    "stop_words.append(\"fit\")\n",
    "stop_words.append(\"look\")\n",
    "stop_words.append(\"comfort\")\n",
    "stop_words.append(\"perfect\")\n",
    "stop_words.append(\"color\")\n",
    "stop_words.append(\"top\")\n",
    "stop_words.append(\"wore\")"
   ]
  },
  {
   "cell_type": "code",
   "execution_count": 42,
   "metadata": {},
   "outputs": [],
   "source": [
    "def text_cleaner(text):\n",
    "    text = text.lower()\n",
    "    text = re.sub(\"\\d\", \"\", text)\n",
    "    text = re.sub('[%s]' % re.escape(string.punctuation), \"\", text)\n",
    "    text = re.sub('\\n', \"\", text)\n",
    "    text = re.sub('\\s{2,}',\"\", text)\n",
    "    text_tokens = word_tokenize(text)\n",
    "    filtered_text = []\n",
    "    for w in text_tokens:\n",
    "        if w not in stop_words:\n",
    "            filtered_text.append(w)\n",
    "    # stemmer = PorterStemmer()\n",
    "    # text = [stemmer.stem(t) for t in filtered_text]\n",
    "    # return text\n",
    "    return filtered_text"
   ]
  },
  {
   "cell_type": "code",
   "execution_count": 43,
   "metadata": {},
   "outputs": [
    {
     "name": "stdout",
     "output_type": "stream",
     "text": [
      "        fit                                        review_text\n",
      "57446   fit  I loved this dress! It was very comfortable al...\n",
      "65762   fit  Fit: One size up!\\nI am 5'0\" and wore 2-inch h...\n",
      "139965  fit  The fit was fine. However, it's not as pretty ...\n",
      "184872  fit  I loved this dress so much.  I wore it to work...\n",
      "126149  fit  I am 5\"5 and 36C, and short wasted. This was a...\n"
     ]
    },
    {
     "name": "stdout",
     "output_type": "stream",
     "text": [
      "        fit                                        review_text\n",
      "57446   fit  [loved, comfortable, evening, slits, fun, touc...\n",
      "65762   fit  [one, size, upi, amand, inch, heels, would, lo...\n",
      "139965  fit     [fine, however, pretty, person, looks, photos]\n",
      "184872  fit  [loved, muchi, work, black, knit, stockings, b...\n",
      "126149  fit  [amand, c, short, wasted, stores, well, ironin...\n"
     ]
    }
   ],
   "source": [
    "print(data.head())\n",
    "data[\"review_text\"] = data[\"review_text\"].apply(text_cleaner)\n",
    "print(data.head())"
   ]
  },
  {
   "cell_type": "code",
   "execution_count": 44,
   "metadata": {},
   "outputs": [],
   "source": [
    "x = data.drop(['fit'], axis = 1)\n",
    "y = LabelEncoder().fit_transform(data['fit'])\n",
    "x_train, x_test, y_train, y_test = train_test_split(x, y, test_size=0.2)\n",
    "# y_train = keras.utils.to_categorical(y_train, 2)\n",
    "# y_test = keras.utils.to_categorical(y_test, 2)"
   ]
  },
  {
   "cell_type": "code",
   "execution_count": 45,
   "metadata": {},
   "outputs": [
    {
     "name": "stdout",
     "output_type": "stream",
     "text": [
      "[1 0 1 ... 1 1 1]\n"
     ]
    }
   ],
   "source": [
    "print(y_train)"
   ]
  },
  {
   "cell_type": "code",
   "execution_count": 46,
   "metadata": {},
   "outputs": [],
   "source": [
    "from tensorflow.keras.preprocessing.text import Tokenizer\n",
    "from tensorflow.keras.preprocessing.sequence import pad_sequences"
   ]
  },
  {
   "cell_type": "code",
   "execution_count": 47,
   "metadata": {},
   "outputs": [
    {
     "data": {
      "text/plain": [
       "113122        [big, ordered, xsi, back, closet, able, wear]\n",
       "129065    [okay, story, ordered, p, p, banking, wearing,...\n",
       "19246     [loved, little, tight, wear, something, else, ...\n",
       "175347    [rented, regular, long, length, ”, heels, regu...\n",
       "14657     [glad, got, large, backup, medium, way, tight,...\n",
       "                                ...                        \n",
       "126890    [rented, birthday, first, one, ordered, didnt,...\n",
       "3731      [perfectly, xs, normally, dresses, rtr, tradit...\n",
       "160987    [definitely, needed, medium, wear, large, unfl...\n",
       "127029    [really, loved, fabric, great, really, keeps, ...\n",
       "142563    [hesitant, order, online, back, read, reviews,...\n",
       "Name: review_text, Length: 40000, dtype: object"
      ]
     },
     "execution_count": 47,
     "metadata": {},
     "output_type": "execute_result"
    }
   ],
   "source": [
    "x_train[\"review_text\"]"
   ]
  },
  {
   "cell_type": "code",
   "execution_count": 48,
   "metadata": {},
   "outputs": [],
   "source": [
    "tokenizer = Tokenizer()\n",
    "tokenizer.fit_on_texts(x_train[\"review_text\"])\n",
    "sequences = tokenizer.texts_to_sequences(x_train[\"review_text\"])"
   ]
  },
  {
   "cell_type": "code",
   "execution_count": 49,
   "metadata": {},
   "outputs": [],
   "source": [
    "word_index = tokenizer.word_index\n",
    "num_unique_words = len(word_index)"
   ]
  },
  {
   "cell_type": "code",
   "execution_count": 50,
   "metadata": {},
   "outputs": [],
   "source": [
    "maxlen = 200\n",
    "padded_sequences = pad_sequences(sequences, maxlen=maxlen, padding='post')"
   ]
  },
  {
   "cell_type": "code",
   "execution_count": 51,
   "metadata": {},
   "outputs": [],
   "source": [
    "# tokenizer2 = Tokenizer()\n",
    "# tokenizer2.fit_on_texts(x_test[\"review_text\"])\n",
    "sequences2 = tokenizer.texts_to_sequences(x_test[\"review_text\"])\n",
    "padded_sequences2 = pad_sequences(sequences2, maxlen=maxlen, padding='post')\n"
   ]
  },
  {
   "cell_type": "code",
   "execution_count": 52,
   "metadata": {},
   "outputs": [
    {
     "name": "stdout",
     "output_type": "stream",
     "text": [
      "10000 40000\n"
     ]
    }
   ],
   "source": [
    "print(len(padded_sequences2),len(padded_sequences))"
   ]
  },
  {
   "cell_type": "code",
   "execution_count": 53,
   "metadata": {},
   "outputs": [],
   "source": [
    "model =  keras.Sequential([keras.Input(shape=(None,), dtype=\"int64\"),\n",
    "                          layers.Embedding(num_unique_words+1, output_dim=128),\n",
    "                          layers.LSTM(128),\n",
    "                          layers.Dropout(0.2),\n",
    "                          layers.Dense(1, activation='sigmoid')])\n"
   ]
  },
  {
   "cell_type": "code",
   "execution_count": 54,
   "metadata": {},
   "outputs": [
    {
     "name": "stdout",
     "output_type": "stream",
     "text": [
      "Epoch 1/10\n"
     ]
    },
    {
     "name": "stdout",
     "output_type": "stream",
     "text": [
      "250/250 [==============================] - 62s 240ms/step - loss: 0.5774 - accuracy: 0.7374 - val_loss: 0.5716 - val_accuracy: 0.7426\n",
      "Epoch 2/10\n",
      "250/250 [==============================] - 58s 232ms/step - loss: 0.5758 - accuracy: 0.7390 - val_loss: 0.5709 - val_accuracy: 0.7426\n",
      "Epoch 3/10\n",
      "250/250 [==============================] - 58s 233ms/step - loss: 0.5750 - accuracy: 0.7390 - val_loss: 0.5712 - val_accuracy: 0.7426\n",
      "Epoch 4/10\n",
      "250/250 [==============================] - 58s 234ms/step - loss: 0.5751 - accuracy: 0.7390 - val_loss: 0.5711 - val_accuracy: 0.7426\n",
      "Epoch 5/10\n",
      "250/250 [==============================] - 58s 234ms/step - loss: 0.5749 - accuracy: 0.7390 - val_loss: 0.5710 - val_accuracy: 0.7426\n",
      "Epoch 6/10\n",
      "250/250 [==============================] - 58s 233ms/step - loss: 0.5751 - accuracy: 0.7390 - val_loss: 0.5703 - val_accuracy: 0.7426\n",
      "Epoch 7/10\n",
      "250/250 [==============================] - 58s 232ms/step - loss: 0.5750 - accuracy: 0.7390 - val_loss: 0.5711 - val_accuracy: 0.7426\n",
      "Epoch 8/10\n",
      "250/250 [==============================] - 58s 232ms/step - loss: 0.5748 - accuracy: 0.7390 - val_loss: 0.5703 - val_accuracy: 0.7426\n",
      "Epoch 9/10\n",
      "250/250 [==============================] - 58s 232ms/step - loss: 0.5750 - accuracy: 0.7390 - val_loss: 0.5704 - val_accuracy: 0.7426\n",
      "Epoch 10/10\n",
      "250/250 [==============================] - 58s 232ms/step - loss: 0.5749 - accuracy: 0.7390 - val_loss: 0.5720 - val_accuracy: 0.7426\n"
     ]
    }
   ],
   "source": [
    "model.compile(optimizer=\"adam\",\n",
    "              loss=\"binary_crossentropy\",\n",
    "              metrics=[\"accuracy\"])\n",
    "history = model.fit(padded_sequences,\n",
    "                    y_train,\n",
    "                    epochs=10,\n",
    "                    batch_size=128,\n",
    "                    validation_split=0.2,\n",
    "                    verbose = 1)"
   ]
  },
  {
   "cell_type": "code",
   "execution_count": 55,
   "metadata": {},
   "outputs": [
    {
     "name": "stdout",
     "output_type": "stream",
     "text": [
      "Test score: 0.5691758990287781\n",
      "Test accuracy: 0.7457000017166138\n"
     ]
    }
   ],
   "source": [
    "score = model.evaluate(padded_sequences2, y_test, verbose=0) \n",
    "print('Test score:', score[0]) \n",
    "print('Test accuracy:', score[1])"
   ]
  }
 ],
 "metadata": {
  "kernelspec": {
   "display_name": "Python 3 (ipykernel)",
   "language": "python",
   "name": "python3"
  },
  "language_info": {
   "codemirror_mode": {
    "name": "ipython",
    "version": 3
   },
   "file_extension": ".py",
   "mimetype": "text/x-python",
   "name": "python",
   "nbconvert_exporter": "python",
   "pygments_lexer": "ipython3",
   "version": "3.10.0"
  }
 },
 "nbformat": 4,
 "nbformat_minor": 5
}
